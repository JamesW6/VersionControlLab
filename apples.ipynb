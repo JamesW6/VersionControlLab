{
 "cells": [
  {
   "cell_type": "code",
   "execution_count": null,
   "id": "ee10cba8",
   "metadata": {
    "vscode": {
     "languageId": "plaintext"
    }
   },
   "outputs": [
    {
     "name": "stdin",
     "output_type": "stream",
     "text": [
      "What is your name? sam 3\n"
     ]
    }
   ],
   "source": [
    "name=input(\"What is your name?\")\n",
    "ownedApples=int(input(\"how many apples do you own\"))\n",
    "print(\"If \" + name + \" had that many apple trees, they would have \" + str(ownedApples*5) + \" apples!!!\")"
   ]
  },
  {
   "cell_type": "code",
   "execution_count": null,
   "id": "4f6efbaf-1b00-4cf2-bbcd-805aeb3c38dc",
   "metadata": {},
   "outputs": [],
   "source": []
  }
 ],
 "metadata": {
  "kernelspec": {
   "display_name": "Python 3 (ipykernel)",
   "language": "python",
   "name": "python3"
  },
  "language_info": {
   "codemirror_mode": {
    "name": "ipython",
    "version": 3
   },
   "file_extension": ".py",
   "mimetype": "text/x-python",
   "name": "python",
   "nbconvert_exporter": "python",
   "pygments_lexer": "ipython3",
   "version": "3.11.13"
  }
 },
 "nbformat": 4,
 "nbformat_minor": 5
}
