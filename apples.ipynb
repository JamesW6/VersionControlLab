{
 "cells": [
  {
   "cell_type": "code",
   "execution_count": null,
   "id": "ee10cba8",
   "metadata": {
    "vscode": {
     "languageId": "plaintext"
    }
   },
   "outputs": [],
   "source": [
    "name=input(\"What is your name?\")\n",
    "ownedApples=int(input(\"how many apples do you own\"))\n"
   ]
  }
 ],
 "metadata": {
  "language_info": {
   "name": "python"
  }
 },
 "nbformat": 4,
 "nbformat_minor": 5
}
